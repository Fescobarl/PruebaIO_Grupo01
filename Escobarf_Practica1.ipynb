{
  "nbformat": 4,
  "nbformat_minor": 0,
  "metadata": {
    "colab": {
      "provenance": [],
      "collapsed_sections": [
        "7eE-UwqrfEfs",
        "yK5wiv_Vm0qc",
        "F8sMkAcWg7Sr",
        "J5M31JXOh4Nt",
        "iQH4StRlh8yD",
        "FpeGzNIBiBOT",
        "ij6Ub_-Loavd"
      ],
      "authorship_tag": "ABX9TyNzPh6xpSX1dFF8a5zLUoqu",
      "include_colab_link": true
    },
    "kernelspec": {
      "name": "python3",
      "display_name": "Python 3"
    },
    "language_info": {
      "name": "python"
    }
  },
  "cells": [
    {
      "cell_type": "markdown",
      "metadata": {
        "id": "view-in-github",
        "colab_type": "text"
      },
      "source": [
        "<a href=\"https://colab.research.google.com/github/Fescobarl/PruebaIO_Grupo01/blob/main/Escobarf_Practica1.ipynb\" target=\"_parent\"><img src=\"https://colab.research.google.com/assets/colab-badge.svg\" alt=\"Open In Colab\"/></a>"
      ]
    },
    {
      "cell_type": "markdown",
      "source": [
        "# ***Mi primera vez -w-***"
      ],
      "metadata": {
        "id": "aaOVeu2oe2R8"
      }
    },
    {
      "cell_type": "markdown",
      "source": [
        "cosas iniciales"
      ],
      "metadata": {
        "id": "xMCJeEX4q2GM"
      }
    },
    {
      "cell_type": "markdown",
      "source": [
        "# taller 0.00\n"
      ],
      "metadata": {
        "id": "7eE-UwqrfEfs"
      }
    },
    {
      "cell_type": "code",
      "execution_count": null,
      "metadata": {
        "colab": {
          "base_uri": "https://localhost:8080/"
        },
        "id": "-pyecdHoY58g",
        "outputId": "b078bdb8-1d3f-4a89-ab28-de5f6029866f"
      },
      "outputs": [
        {
          "output_type": "stream",
          "name": "stdout",
          "text": [
            "hola mundo\n"
          ]
        }
      ],
      "source": [
        "print(\"hola mundo\")"
      ]
    },
    {
      "cell_type": "markdown",
      "source": [
        "# taller 0.01"
      ],
      "metadata": {
        "id": "yK5wiv_Vm0qc"
      }
    },
    {
      "cell_type": "code",
      "source": [
        "print(\"Aprender a programar es simple\")"
      ],
      "metadata": {
        "colab": {
          "base_uri": "https://localhost:8080/"
        },
        "id": "eh2L58spm4J8",
        "outputId": "11b74c41-c701-4629-9d18-d57802cca884"
      },
      "execution_count": null,
      "outputs": [
        {
          "output_type": "stream",
          "name": "stdout",
          "text": [
            "Aprender a programar es simple\n"
          ]
        }
      ]
    },
    {
      "cell_type": "markdown",
      "source": [
        "# taller 0.02"
      ],
      "metadata": {
        "id": "F8sMkAcWg7Sr"
      }
    },
    {
      "cell_type": "code",
      "source": [
        "x = int(input())\n",
        "volumen = 3.14*(x**3)*(4/3)\n",
        "print(round(volumen, 2))"
      ],
      "metadata": {
        "colab": {
          "base_uri": "https://localhost:8080/"
        },
        "id": "l2EG2OG7ZKyr",
        "outputId": "9068c8fd-12b0-472c-b6fb-ce494a56c85e"
      },
      "execution_count": null,
      "outputs": [
        {
          "output_type": "stream",
          "name": "stdout",
          "text": [
            "43\n",
            "332869.31\n"
          ]
        }
      ]
    },
    {
      "cell_type": "markdown",
      "source": [
        "# taller 0.03"
      ],
      "metadata": {
        "id": "J5M31JXOh4Nt"
      }
    },
    {
      "cell_type": "code",
      "source": [
        "x=int(input())\n",
        "y=int(input())\n",
        "hipotenusa=((x**2)+(y**2))**(1/2)\n",
        "print(round(hipotenusa,1))"
      ],
      "metadata": {
        "colab": {
          "base_uri": "https://localhost:8080/"
        },
        "id": "Q-4gRewidUek",
        "outputId": "b3b3c1e6-b7f5-449e-8252-af0fb8ca84f6"
      },
      "execution_count": null,
      "outputs": [
        {
          "output_type": "stream",
          "name": "stdout",
          "text": [
            "69\n",
            "55\n",
            "88.2\n"
          ]
        }
      ]
    },
    {
      "cell_type": "markdown",
      "source": [
        "# taller 0.04"
      ],
      "metadata": {
        "id": "iQH4StRlh8yD"
      }
    },
    {
      "cell_type": "code",
      "source": [
        "h=int(input())\n",
        "r=int(input())\n",
        "area= (2*3.14)*(r**2)+(2*3.14)*(r)*(h)\n",
        "print(round(area,2))"
      ],
      "metadata": {
        "colab": {
          "base_uri": "https://localhost:8080/"
        },
        "id": "tMtVNnLffKWW",
        "outputId": "de819041-400d-4d3c-ea1d-b73794bcf9c1"
      },
      "execution_count": null,
      "outputs": [
        {
          "output_type": "stream",
          "name": "stdout",
          "text": [
            "8\n",
            "3\n",
            "207.24\n"
          ]
        }
      ]
    },
    {
      "cell_type": "markdown",
      "source": [
        "# taller 0.05"
      ],
      "metadata": {
        "id": "FpeGzNIBiBOT"
      }
    },
    {
      "cell_type": "code",
      "source": [
        "a=float(input())\n",
        "b=float(input())\n",
        "c=float(input())\n",
        "d=float(input())\n",
        "e=float(input())\n",
        "promedio=(a+b+c+d+e)/5\n",
        "print(round(promedio,1))"
      ],
      "metadata": {
        "colab": {
          "base_uri": "https://localhost:8080/"
        },
        "id": "wgwhu_SKiE3u",
        "outputId": "7c8e5b87-03e0-430b-ee4c-fd59398dde5f"
      },
      "execution_count": null,
      "outputs": [
        {
          "output_type": "stream",
          "name": "stdout",
          "text": [
            "5\n",
            "3.4\n",
            "2.5\n",
            "4.8\n",
            "3\n",
            "3.7\n"
          ]
        }
      ]
    },
    {
      "cell_type": "markdown",
      "source": [
        "# taller 0.06"
      ],
      "metadata": {
        "id": "ij6Ub_-Loavd"
      }
    },
    {
      "cell_type": "code",
      "source": [
        "X1=int(input())\n",
        "Y1=int(input())\n",
        "X2=int(input())\n",
        "Y2=int(input())\n",
        "distancia= (((X2-X1)**2)+((Y2-Y1)**2))**0.5\n",
        "print(round(distancia,2))"
      ],
      "metadata": {
        "colab": {
          "base_uri": "https://localhost:8080/"
        },
        "id": "wug_dc7EoduE",
        "outputId": "75326f5a-f7e8-42f0-8c9e-cbc69d72fd9c"
      },
      "execution_count": null,
      "outputs": [
        {
          "output_type": "stream",
          "name": "stdout",
          "text": [
            "7\n",
            "5\n",
            "4\n",
            "1\n",
            "5.0\n"
          ]
        }
      ]
    },
    {
      "cell_type": "markdown",
      "source": [
        "# taller 0.07\n"
      ],
      "metadata": {
        "id": "JVaozT7Jpl_F"
      }
    },
    {
      "cell_type": "code",
      "source": [
        "a= int(input())\n",
        "b= int(input())\n",
        "c= int(input())\n",
        "lista = [a,b,c]\n",
        "listac = lista+lista+lista\n",
        "print(listac[2:])"
      ],
      "metadata": {
        "id": "pR2SlZZNpy-2",
        "colab": {
          "base_uri": "https://localhost:8080/"
        },
        "outputId": "8fc366ac-f778-4bf6-c36f-6f944df18776"
      },
      "execution_count": null,
      "outputs": [
        {
          "output_type": "stream",
          "name": "stdout",
          "text": [
            "7\n",
            "5\n",
            "4\n",
            "[4, 7, 5, 4, 7, 5, 4]\n"
          ]
        }
      ]
    },
    {
      "cell_type": "markdown",
      "source": [
        "# taller 0.08"
      ],
      "metadata": {
        "id": "ZsxbqkWgsrvM"
      }
    },
    {
      "cell_type": "code",
      "source": [
        "a= int(input())\n",
        "b= int(input())\n",
        "terreno1= a**2\n",
        "terreno2= b**2\n",
        "diferencia= terreno1-terreno2\n",
        "resultado=[terreno1,terreno2,diferencia]\n",
        "print(resultado)"
      ],
      "metadata": {
        "colab": {
          "base_uri": "https://localhost:8080/"
        },
        "id": "7dEVfIPusyTs",
        "outputId": "7a1b60a5-8084-478a-ac90-3ebe789778f1"
      },
      "execution_count": null,
      "outputs": [
        {
          "output_type": "stream",
          "name": "stdout",
          "text": [
            "2\n",
            "3\n",
            "[4, 9, -5]\n"
          ]
        }
      ]
    },
    {
      "cell_type": "markdown",
      "source": [
        "# taller 0.09"
      ],
      "metadata": {
        "id": "6tk_9cNdJhdF"
      }
    },
    {
      "cell_type": "code",
      "source": [
        "x= float(input())\n",
        "l=[round(x+83,2),round(x+45,2),round(x+64,2)]\n",
        "ls=[round(sum(l)/3,2)]\n",
        "print(l+ls)"
      ],
      "metadata": {
        "colab": {
          "base_uri": "https://localhost:8080/"
        },
        "id": "L06pGWKvJkd-",
        "outputId": "86f67476-27af-48d6-f1d6-dde755a39e85"
      },
      "execution_count": 5,
      "outputs": [
        {
          "output_type": "stream",
          "name": "stdout",
          "text": [
            "6\n",
            "[89.0, 51.0, 70.0, 70.0]\n"
          ]
        }
      ]
    },
    {
      "cell_type": "markdown",
      "source": [
        "# taller 0.10"
      ],
      "metadata": {
        "id": "06Jd2bxONqti"
      }
    },
    {
      "cell_type": "code",
      "source": [
        "a=float(input())\n",
        "b=float(input())\n",
        "c=float(input())\n",
        "d=float(input())\n",
        "e=float(input())\n",
        "prom=round(((a+b+c+d+e)/5),2)\n",
        "list=[a,b,c,d,e,prom]\n",
        "print(list)"
      ],
      "metadata": {
        "id": "07_bJw_6NqKz"
      },
      "execution_count": null,
      "outputs": []
    },
    {
      "cell_type": "markdown",
      "source": [
        "# taller 0.11"
      ],
      "metadata": {
        "id": "2pfD867uNwAK"
      }
    },
    {
      "cell_type": "code",
      "source": [
        "o1=input()\n",
        "p1=input()\n",
        "o2=input()\n",
        "p2=input()\n",
        "dic= {o1:p1,o2:p2}\n",
        "dic.pop(o1)\n",
        "print(dic)"
      ],
      "metadata": {
        "id": "-KoSx-i_N0Sz"
      },
      "execution_count": null,
      "outputs": []
    },
    {
      "cell_type": "markdown",
      "source": [
        "# taller 0.12"
      ],
      "metadata": {
        "id": "22kkTY6ux-II"
      }
    },
    {
      "cell_type": "code",
      "source": [
        "x=eval(input())\n",
        "x[0][2]=round(((x[0][0]*x[0][1])/2),1)\n",
        "x[1][2]=round(((x[1][0]*x[1][1])/2),1)\n",
        "x[2][2]=round(((x[2][0]*x[2][1])/2),1)\n",
        "print(x)"
      ],
      "metadata": {
        "colab": {
          "base_uri": "https://localhost:8080/"
        },
        "id": "u1AKHW3ux85v",
        "outputId": "381a293f-1854-414c-c5e6-7641622cfd7b"
      },
      "execution_count": 6,
      "outputs": [
        {
          "output_type": "stream",
          "name": "stdout",
          "text": [
            "[[3, 6, 0], [2, 1, 0], [1, 1, 0]]\n",
            "[[3, 6, 9.0], [2, 1, 1.0], [1, 1, 0.5]]\n"
          ]
        }
      ]
    },
    {
      "cell_type": "markdown",
      "source": [
        "# taller 0.13"
      ],
      "metadata": {
        "id": "Xbc1_AUf2IrU"
      }
    },
    {
      "cell_type": "code",
      "source": [
        "x=eval(input())\n",
        "vol=round(((1/3)*(x[0]**2)*x[1]),2)\n",
        "print(x+[vol])"
      ],
      "metadata": {
        "id": "VaNavS-42H-k"
      },
      "execution_count": null,
      "outputs": []
    }
  ]
}