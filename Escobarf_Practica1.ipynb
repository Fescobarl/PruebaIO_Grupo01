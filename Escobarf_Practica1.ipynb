{
  "nbformat": 4,
  "nbformat_minor": 0,
  "metadata": {
    "colab": {
      "provenance": [],
      "collapsed_sections": [
        "7eE-UwqrfEfs",
        "F8sMkAcWg7Sr",
        "J5M31JXOh4Nt",
        "iQH4StRlh8yD"
      ],
      "toc_visible": true,
      "authorship_tag": "ABX9TyOQtMmtdUku9mdSFz0GjhUo",
      "include_colab_link": true
    },
    "kernelspec": {
      "name": "python3",
      "display_name": "Python 3"
    },
    "language_info": {
      "name": "python"
    }
  },
  "cells": [
    {
      "cell_type": "markdown",
      "metadata": {
        "id": "view-in-github",
        "colab_type": "text"
      },
      "source": [
        "<a href=\"https://colab.research.google.com/github/Fescobarl/PruebaIO_Grupo01/blob/main/Escobarf_Practica1.ipynb\" target=\"_parent\"><img src=\"https://colab.research.google.com/assets/colab-badge.svg\" alt=\"Open In Colab\"/></a>"
      ]
    },
    {
      "cell_type": "markdown",
      "source": [
        "# ***Mi primera vez -w-***"
      ],
      "metadata": {
        "id": "aaOVeu2oe2R8"
      }
    },
    {
      "cell_type": "markdown",
      "source": [
        "# taller 00\n"
      ],
      "metadata": {
        "id": "7eE-UwqrfEfs"
      }
    },
    {
      "cell_type": "code",
      "execution_count": 1,
      "metadata": {
        "colab": {
          "base_uri": "https://localhost:8080/"
        },
        "id": "-pyecdHoY58g",
        "outputId": "b078bdb8-1d3f-4a89-ab28-de5f6029866f"
      },
      "outputs": [
        {
          "output_type": "stream",
          "name": "stdout",
          "text": [
            "hola mundo\n"
          ]
        }
      ],
      "source": [
        "print(\"hola mundo\")"
      ]
    },
    {
      "cell_type": "markdown",
      "source": [
        "# taller 02"
      ],
      "metadata": {
        "id": "F8sMkAcWg7Sr"
      }
    },
    {
      "cell_type": "code",
      "source": [
        "x = int(input())\n",
        "volumen = 3.14*(x**3)*(4/3)\n",
        "print(round(volumen, 2))"
      ],
      "metadata": {
        "colab": {
          "base_uri": "https://localhost:8080/"
        },
        "id": "l2EG2OG7ZKyr",
        "outputId": "9068c8fd-12b0-472c-b6fb-ce494a56c85e"
      },
      "execution_count": 14,
      "outputs": [
        {
          "output_type": "stream",
          "name": "stdout",
          "text": [
            "43\n",
            "332869.31\n"
          ]
        }
      ]
    },
    {
      "cell_type": "markdown",
      "source": [
        "# taller 03"
      ],
      "metadata": {
        "id": "J5M31JXOh4Nt"
      }
    },
    {
      "cell_type": "code",
      "source": [
        "x=int(input())\n",
        "y=int(input())\n",
        "hipotenusa=((x**2)+(y**2))**(1/2)\n",
        "print(round(hipotenusa,1))"
      ],
      "metadata": {
        "colab": {
          "base_uri": "https://localhost:8080/"
        },
        "id": "Q-4gRewidUek",
        "outputId": "b3b3c1e6-b7f5-449e-8252-af0fb8ca84f6"
      },
      "execution_count": 17,
      "outputs": [
        {
          "output_type": "stream",
          "name": "stdout",
          "text": [
            "69\n",
            "55\n",
            "88.2\n"
          ]
        }
      ]
    },
    {
      "cell_type": "markdown",
      "source": [
        "# taller 04"
      ],
      "metadata": {
        "id": "iQH4StRlh8yD"
      }
    },
    {
      "cell_type": "code",
      "source": [
        "h=int(input())\n",
        "r=int(input())\n",
        "area= (2*3.14)*(r**2)+(2*3.14)*(r)*(h)\n",
        "print(round(area,2))"
      ],
      "metadata": {
        "colab": {
          "base_uri": "https://localhost:8080/"
        },
        "id": "tMtVNnLffKWW",
        "outputId": "de819041-400d-4d3c-ea1d-b73794bcf9c1"
      },
      "execution_count": 19,
      "outputs": [
        {
          "output_type": "stream",
          "name": "stdout",
          "text": [
            "8\n",
            "3\n",
            "207.24\n"
          ]
        }
      ]
    },
    {
      "cell_type": "markdown",
      "source": [
        "# taller 05"
      ],
      "metadata": {
        "id": "FpeGzNIBiBOT"
      }
    },
    {
      "cell_type": "code",
      "source": [
        "a=float(input())\n",
        "b=float(input())\n",
        "c=float(input())\n",
        "d=float(input())\n",
        "e=float(input())\n",
        "promedio=(a+b+c+d+e)/5\n",
        "print(round(promedio,1))"
      ],
      "metadata": {
        "colab": {
          "base_uri": "https://localhost:8080/"
        },
        "id": "wgwhu_SKiE3u",
        "outputId": "7c8e5b87-03e0-430b-ee4c-fd59398dde5f"
      },
      "execution_count": 20,
      "outputs": [
        {
          "output_type": "stream",
          "name": "stdout",
          "text": [
            "5\n",
            "3.4\n",
            "2.5\n",
            "4.8\n",
            "3\n",
            "3.7\n"
          ]
        }
      ]
    }
  ]
}